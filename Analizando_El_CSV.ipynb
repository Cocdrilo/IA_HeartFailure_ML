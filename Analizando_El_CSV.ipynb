{
 "cells": [
  {
   "cell_type": "code",
   "execution_count": 196,
   "id": "initial_id",
   "metadata": {
    "ExecuteTime": {
     "end_time": "2025-04-10T16:13:09.392398Z",
     "start_time": "2025-04-10T16:13:09.383068Z"
    },
    "collapsed": true
   },
   "outputs": [],
   "source": [
    "import pandas as pd\n",
    "import numpy as np\n",
    "\n",
    "\n",
    "df = pd.read_csv('res/ObesityDataSet_raw_and_data_sinthetic.csv')\n"
   ]
  },
  {
   "cell_type": "code",
   "execution_count": 197,
   "id": "738745138b369f6f",
   "metadata": {
    "ExecuteTime": {
     "end_time": "2025-04-10T16:13:09.447699Z",
     "start_time": "2025-04-10T16:13:09.436704Z"
    }
   },
   "outputs": [
    {
     "data": {
      "text/html": [
       "<div>\n",
       "<style scoped>\n",
       "    .dataframe tbody tr th:only-of-type {\n",
       "        vertical-align: middle;\n",
       "    }\n",
       "\n",
       "    .dataframe tbody tr th {\n",
       "        vertical-align: top;\n",
       "    }\n",
       "\n",
       "    .dataframe thead th {\n",
       "        text-align: right;\n",
       "    }\n",
       "</style>\n",
       "<table border=\"1\" class=\"dataframe\">\n",
       "  <thead>\n",
       "    <tr style=\"text-align: right;\">\n",
       "      <th></th>\n",
       "      <th>Gender</th>\n",
       "      <th>Age</th>\n",
       "      <th>Height</th>\n",
       "      <th>Weight</th>\n",
       "      <th>family_history_with_overweight</th>\n",
       "      <th>FAVC</th>\n",
       "      <th>FCVC</th>\n",
       "      <th>NCP</th>\n",
       "      <th>CAEC</th>\n",
       "      <th>SMOKE</th>\n",
       "      <th>CH2O</th>\n",
       "      <th>SCC</th>\n",
       "      <th>FAF</th>\n",
       "      <th>TUE</th>\n",
       "      <th>CALC</th>\n",
       "      <th>MTRANS</th>\n",
       "      <th>NObeyesdad</th>\n",
       "    </tr>\n",
       "  </thead>\n",
       "  <tbody>\n",
       "    <tr>\n",
       "      <th>0</th>\n",
       "      <td>Female</td>\n",
       "      <td>21.000000</td>\n",
       "      <td>1.620000</td>\n",
       "      <td>64.000000</td>\n",
       "      <td>yes</td>\n",
       "      <td>no</td>\n",
       "      <td>2.0</td>\n",
       "      <td>3.0</td>\n",
       "      <td>Sometimes</td>\n",
       "      <td>no</td>\n",
       "      <td>2.000000</td>\n",
       "      <td>no</td>\n",
       "      <td>0.000000</td>\n",
       "      <td>1.000000</td>\n",
       "      <td>no</td>\n",
       "      <td>Public_Transportation</td>\n",
       "      <td>Normal_Weight</td>\n",
       "    </tr>\n",
       "    <tr>\n",
       "      <th>1</th>\n",
       "      <td>Female</td>\n",
       "      <td>21.000000</td>\n",
       "      <td>1.520000</td>\n",
       "      <td>56.000000</td>\n",
       "      <td>yes</td>\n",
       "      <td>no</td>\n",
       "      <td>3.0</td>\n",
       "      <td>3.0</td>\n",
       "      <td>Sometimes</td>\n",
       "      <td>yes</td>\n",
       "      <td>3.000000</td>\n",
       "      <td>yes</td>\n",
       "      <td>3.000000</td>\n",
       "      <td>0.000000</td>\n",
       "      <td>Sometimes</td>\n",
       "      <td>Public_Transportation</td>\n",
       "      <td>Normal_Weight</td>\n",
       "    </tr>\n",
       "    <tr>\n",
       "      <th>2</th>\n",
       "      <td>Male</td>\n",
       "      <td>23.000000</td>\n",
       "      <td>1.800000</td>\n",
       "      <td>77.000000</td>\n",
       "      <td>yes</td>\n",
       "      <td>no</td>\n",
       "      <td>2.0</td>\n",
       "      <td>3.0</td>\n",
       "      <td>Sometimes</td>\n",
       "      <td>no</td>\n",
       "      <td>2.000000</td>\n",
       "      <td>no</td>\n",
       "      <td>2.000000</td>\n",
       "      <td>1.000000</td>\n",
       "      <td>Frequently</td>\n",
       "      <td>Public_Transportation</td>\n",
       "      <td>Normal_Weight</td>\n",
       "    </tr>\n",
       "    <tr>\n",
       "      <th>3</th>\n",
       "      <td>Male</td>\n",
       "      <td>27.000000</td>\n",
       "      <td>1.800000</td>\n",
       "      <td>87.000000</td>\n",
       "      <td>no</td>\n",
       "      <td>no</td>\n",
       "      <td>3.0</td>\n",
       "      <td>3.0</td>\n",
       "      <td>Sometimes</td>\n",
       "      <td>no</td>\n",
       "      <td>2.000000</td>\n",
       "      <td>no</td>\n",
       "      <td>2.000000</td>\n",
       "      <td>0.000000</td>\n",
       "      <td>Frequently</td>\n",
       "      <td>Walking</td>\n",
       "      <td>Overweight_Level_I</td>\n",
       "    </tr>\n",
       "    <tr>\n",
       "      <th>4</th>\n",
       "      <td>Male</td>\n",
       "      <td>22.000000</td>\n",
       "      <td>1.780000</td>\n",
       "      <td>89.800000</td>\n",
       "      <td>no</td>\n",
       "      <td>no</td>\n",
       "      <td>2.0</td>\n",
       "      <td>1.0</td>\n",
       "      <td>Sometimes</td>\n",
       "      <td>no</td>\n",
       "      <td>2.000000</td>\n",
       "      <td>no</td>\n",
       "      <td>0.000000</td>\n",
       "      <td>0.000000</td>\n",
       "      <td>Sometimes</td>\n",
       "      <td>Public_Transportation</td>\n",
       "      <td>Overweight_Level_II</td>\n",
       "    </tr>\n",
       "    <tr>\n",
       "      <th>...</th>\n",
       "      <td>...</td>\n",
       "      <td>...</td>\n",
       "      <td>...</td>\n",
       "      <td>...</td>\n",
       "      <td>...</td>\n",
       "      <td>...</td>\n",
       "      <td>...</td>\n",
       "      <td>...</td>\n",
       "      <td>...</td>\n",
       "      <td>...</td>\n",
       "      <td>...</td>\n",
       "      <td>...</td>\n",
       "      <td>...</td>\n",
       "      <td>...</td>\n",
       "      <td>...</td>\n",
       "      <td>...</td>\n",
       "      <td>...</td>\n",
       "    </tr>\n",
       "    <tr>\n",
       "      <th>2106</th>\n",
       "      <td>Female</td>\n",
       "      <td>20.976842</td>\n",
       "      <td>1.710730</td>\n",
       "      <td>131.408528</td>\n",
       "      <td>yes</td>\n",
       "      <td>yes</td>\n",
       "      <td>3.0</td>\n",
       "      <td>3.0</td>\n",
       "      <td>Sometimes</td>\n",
       "      <td>no</td>\n",
       "      <td>1.728139</td>\n",
       "      <td>no</td>\n",
       "      <td>1.676269</td>\n",
       "      <td>0.906247</td>\n",
       "      <td>Sometimes</td>\n",
       "      <td>Public_Transportation</td>\n",
       "      <td>Obesity_Type_III</td>\n",
       "    </tr>\n",
       "    <tr>\n",
       "      <th>2107</th>\n",
       "      <td>Female</td>\n",
       "      <td>21.982942</td>\n",
       "      <td>1.748584</td>\n",
       "      <td>133.742943</td>\n",
       "      <td>yes</td>\n",
       "      <td>yes</td>\n",
       "      <td>3.0</td>\n",
       "      <td>3.0</td>\n",
       "      <td>Sometimes</td>\n",
       "      <td>no</td>\n",
       "      <td>2.005130</td>\n",
       "      <td>no</td>\n",
       "      <td>1.341390</td>\n",
       "      <td>0.599270</td>\n",
       "      <td>Sometimes</td>\n",
       "      <td>Public_Transportation</td>\n",
       "      <td>Obesity_Type_III</td>\n",
       "    </tr>\n",
       "    <tr>\n",
       "      <th>2108</th>\n",
       "      <td>Female</td>\n",
       "      <td>22.524036</td>\n",
       "      <td>1.752206</td>\n",
       "      <td>133.689352</td>\n",
       "      <td>yes</td>\n",
       "      <td>yes</td>\n",
       "      <td>3.0</td>\n",
       "      <td>3.0</td>\n",
       "      <td>Sometimes</td>\n",
       "      <td>no</td>\n",
       "      <td>2.054193</td>\n",
       "      <td>no</td>\n",
       "      <td>1.414209</td>\n",
       "      <td>0.646288</td>\n",
       "      <td>Sometimes</td>\n",
       "      <td>Public_Transportation</td>\n",
       "      <td>Obesity_Type_III</td>\n",
       "    </tr>\n",
       "    <tr>\n",
       "      <th>2109</th>\n",
       "      <td>Female</td>\n",
       "      <td>24.361936</td>\n",
       "      <td>1.739450</td>\n",
       "      <td>133.346641</td>\n",
       "      <td>yes</td>\n",
       "      <td>yes</td>\n",
       "      <td>3.0</td>\n",
       "      <td>3.0</td>\n",
       "      <td>Sometimes</td>\n",
       "      <td>no</td>\n",
       "      <td>2.852339</td>\n",
       "      <td>no</td>\n",
       "      <td>1.139107</td>\n",
       "      <td>0.586035</td>\n",
       "      <td>Sometimes</td>\n",
       "      <td>Public_Transportation</td>\n",
       "      <td>Obesity_Type_III</td>\n",
       "    </tr>\n",
       "    <tr>\n",
       "      <th>2110</th>\n",
       "      <td>Female</td>\n",
       "      <td>23.664709</td>\n",
       "      <td>1.738836</td>\n",
       "      <td>133.472641</td>\n",
       "      <td>yes</td>\n",
       "      <td>yes</td>\n",
       "      <td>3.0</td>\n",
       "      <td>3.0</td>\n",
       "      <td>Sometimes</td>\n",
       "      <td>no</td>\n",
       "      <td>2.863513</td>\n",
       "      <td>no</td>\n",
       "      <td>1.026452</td>\n",
       "      <td>0.714137</td>\n",
       "      <td>Sometimes</td>\n",
       "      <td>Public_Transportation</td>\n",
       "      <td>Obesity_Type_III</td>\n",
       "    </tr>\n",
       "  </tbody>\n",
       "</table>\n",
       "<p>2111 rows × 17 columns</p>\n",
       "</div>"
      ],
      "text/plain": [
       "      Gender        Age    Height      Weight family_history_with_overweight  \\\n",
       "0     Female  21.000000  1.620000   64.000000                            yes   \n",
       "1     Female  21.000000  1.520000   56.000000                            yes   \n",
       "2       Male  23.000000  1.800000   77.000000                            yes   \n",
       "3       Male  27.000000  1.800000   87.000000                             no   \n",
       "4       Male  22.000000  1.780000   89.800000                             no   \n",
       "...      ...        ...       ...         ...                            ...   \n",
       "2106  Female  20.976842  1.710730  131.408528                            yes   \n",
       "2107  Female  21.982942  1.748584  133.742943                            yes   \n",
       "2108  Female  22.524036  1.752206  133.689352                            yes   \n",
       "2109  Female  24.361936  1.739450  133.346641                            yes   \n",
       "2110  Female  23.664709  1.738836  133.472641                            yes   \n",
       "\n",
       "     FAVC  FCVC  NCP       CAEC SMOKE      CH2O  SCC       FAF       TUE  \\\n",
       "0      no   2.0  3.0  Sometimes    no  2.000000   no  0.000000  1.000000   \n",
       "1      no   3.0  3.0  Sometimes   yes  3.000000  yes  3.000000  0.000000   \n",
       "2      no   2.0  3.0  Sometimes    no  2.000000   no  2.000000  1.000000   \n",
       "3      no   3.0  3.0  Sometimes    no  2.000000   no  2.000000  0.000000   \n",
       "4      no   2.0  1.0  Sometimes    no  2.000000   no  0.000000  0.000000   \n",
       "...   ...   ...  ...        ...   ...       ...  ...       ...       ...   \n",
       "2106  yes   3.0  3.0  Sometimes    no  1.728139   no  1.676269  0.906247   \n",
       "2107  yes   3.0  3.0  Sometimes    no  2.005130   no  1.341390  0.599270   \n",
       "2108  yes   3.0  3.0  Sometimes    no  2.054193   no  1.414209  0.646288   \n",
       "2109  yes   3.0  3.0  Sometimes    no  2.852339   no  1.139107  0.586035   \n",
       "2110  yes   3.0  3.0  Sometimes    no  2.863513   no  1.026452  0.714137   \n",
       "\n",
       "            CALC                 MTRANS           NObeyesdad  \n",
       "0             no  Public_Transportation        Normal_Weight  \n",
       "1      Sometimes  Public_Transportation        Normal_Weight  \n",
       "2     Frequently  Public_Transportation        Normal_Weight  \n",
       "3     Frequently                Walking   Overweight_Level_I  \n",
       "4      Sometimes  Public_Transportation  Overweight_Level_II  \n",
       "...          ...                    ...                  ...  \n",
       "2106   Sometimes  Public_Transportation     Obesity_Type_III  \n",
       "2107   Sometimes  Public_Transportation     Obesity_Type_III  \n",
       "2108   Sometimes  Public_Transportation     Obesity_Type_III  \n",
       "2109   Sometimes  Public_Transportation     Obesity_Type_III  \n",
       "2110   Sometimes  Public_Transportation     Obesity_Type_III  \n",
       "\n",
       "[2111 rows x 17 columns]"
      ]
     },
     "execution_count": 197,
     "metadata": {},
     "output_type": "execute_result"
    }
   ],
   "source": [
    "df.head()\n"
   ]
  },
  {
   "cell_type": "code",
   "execution_count": 198,
   "id": "567acdb2e32e8735",
   "metadata": {
    "ExecuteTime": {
     "end_time": "2025-04-10T16:13:09.512986Z",
     "start_time": "2025-04-10T16:13:09.509494Z"
    }
   },
   "outputs": [
    {
     "data": {
      "text/plain": [
       "CH2O\n",
       "2.000000    448\n",
       "1.000000    211\n",
       "3.000000    162\n",
       "2.825629      3\n",
       "1.636326      3\n",
       "           ... \n",
       "1.651548      1\n",
       "2.405172      1\n",
       "2.469469      1\n",
       "2.503198      1\n",
       "2.452986      1\n",
       "Name: count, Length: 1268, dtype: int64"
      ]
     },
     "execution_count": 198,
     "metadata": {},
     "output_type": "execute_result"
    }
   ],
   "source": [
    "df['CH2O'].value_counts()"
   ]
  },
  {
   "cell_type": "code",
   "execution_count": 199,
   "id": "86c008ce5fc4c592",
   "metadata": {
    "ExecuteTime": {
     "end_time": "2025-04-10T16:13:09.576185Z",
     "start_time": "2025-04-10T16:13:09.572168Z"
    }
   },
   "outputs": [
    {
     "data": {
      "text/plain": [
       "FCVC\n",
       "3.000000    652\n",
       "2.000000    600\n",
       "1.000000     33\n",
       "2.568063      2\n",
       "2.971574      2\n",
       "           ... \n",
       "2.010684      1\n",
       "2.300408      1\n",
       "2.119643      1\n",
       "2.901924      1\n",
       "2.749629      1\n",
       "Name: count, Length: 810, dtype: int64"
      ]
     },
     "execution_count": 199,
     "metadata": {},
     "output_type": "execute_result"
    }
   ],
   "source": [
    "df['FCVC'].value_counts()"
   ]
  },
  {
   "cell_type": "code",
   "execution_count": 200,
   "id": "5d93592544429117",
   "metadata": {
    "ExecuteTime": {
     "end_time": "2025-04-10T16:13:09.645731Z",
     "start_time": "2025-04-10T16:13:09.641833Z"
    }
   },
   "outputs": [
    {
     "data": {
      "text/plain": [
       "NCP\n",
       "3.000000    1203\n",
       "1.000000     199\n",
       "4.000000      69\n",
       "2.644692       2\n",
       "2.776840       2\n",
       "            ... \n",
       "3.335876       1\n",
       "3.205009       1\n",
       "3.648194       1\n",
       "1.865238       1\n",
       "3.370362       1\n",
       "Name: count, Length: 635, dtype: int64"
      ]
     },
     "execution_count": 200,
     "metadata": {},
     "output_type": "execute_result"
    }
   ],
   "source": [
    "df['NCP'].value_counts()"
   ]
  },
  {
   "cell_type": "code",
   "execution_count": 201,
   "id": "bf3b216da4e0d2ea",
   "metadata": {
    "ExecuteTime": {
     "end_time": "2025-04-10T16:13:09.776719Z",
     "start_time": "2025-04-10T16:13:09.772800Z"
    }
   },
   "outputs": [
    {
     "data": {
      "text/plain": [
       "FAF\n",
       "0.000000    411\n",
       "1.000000    234\n",
       "2.000000    183\n",
       "3.000000     75\n",
       "1.399183      2\n",
       "           ... \n",
       "0.674348      1\n",
       "0.285889      1\n",
       "0.678943      1\n",
       "0.893362      1\n",
       "0.340915      1\n",
       "Name: count, Length: 1190, dtype: int64"
      ]
     },
     "execution_count": 201,
     "metadata": {},
     "output_type": "execute_result"
    }
   ],
   "source": [
    "df['FAF'].value_counts()\n"
   ]
  },
  {
   "cell_type": "code",
   "execution_count": 202,
   "id": "4ad5953a715ff904",
   "metadata": {
    "ExecuteTime": {
     "end_time": "2025-04-10T16:13:09.888682Z",
     "start_time": "2025-04-10T16:13:09.884886Z"
    }
   },
   "outputs": [
    {
     "data": {
      "text/plain": [
       "TUE\n",
       "0.000000    557\n",
       "1.000000    292\n",
       "2.000000    109\n",
       "0.630866      4\n",
       "0.002600      3\n",
       "           ... \n",
       "0.790967      1\n",
       "1.886855      1\n",
       "0.003695      1\n",
       "0.608607      1\n",
       "0.464022      1\n",
       "Name: count, Length: 1129, dtype: int64"
      ]
     },
     "execution_count": 202,
     "metadata": {},
     "output_type": "execute_result"
    }
   ],
   "source": [
    "df['TUE'].value_counts()"
   ]
  },
  {
   "cell_type": "markdown",
   "id": "88ef8d9c766703cd",
   "metadata": {},
   "source": [
    "#### Como es un dataset que ha sido ampliado utlizando SMOTE tenemos que hacer varios arreglos importantes en el propio dataset"
   ]
  },
  {
   "cell_type": "code",
   "execution_count": 203,
   "id": "c555bbd6ca0430c",
   "metadata": {
    "ExecuteTime": {
     "end_time": "2025-04-10T16:13:09.978102Z",
     "start_time": "2025-04-10T16:13:09.972996Z"
    }
   },
   "outputs": [
    {
     "data": {
      "text/plain": [
       "0       21\n",
       "1       21\n",
       "2       23\n",
       "3       27\n",
       "4       22\n",
       "        ..\n",
       "2106    20\n",
       "2107    21\n",
       "2108    22\n",
       "2109    24\n",
       "2110    23\n",
       "Name: Age, Length: 2111, dtype: object"
      ]
     },
     "execution_count": 203,
     "metadata": {},
     "output_type": "execute_result"
    }
   ],
   "source": [
    "# Trimeamos de la columna Age los decimales cortando todos los decimales y convierto a int\n",
    "\n",
    "df['Age'] = df['Age'].apply(lambda x: str(x).split('.')[0])\n",
    "\n",
    "df['Age']"
   ]
  },
  {
   "cell_type": "code",
   "execution_count": 204,
   "id": "ab244daefcc9c12b",
   "metadata": {
    "ExecuteTime": {
     "end_time": "2025-04-10T16:13:10.047364Z",
     "start_time": "2025-04-10T16:13:10.043271Z"
    }
   },
   "outputs": [
    {
     "data": {
      "text/plain": [
       "0       1.62\n",
       "1       1.52\n",
       "2       1.80\n",
       "3       1.80\n",
       "4       1.78\n",
       "        ... \n",
       "2106    1.71\n",
       "2107    1.74\n",
       "2108    1.75\n",
       "2109    1.73\n",
       "2110    1.73\n",
       "Name: Height, Length: 2111, dtype: float64"
      ]
     },
     "execution_count": 204,
     "metadata": {},
     "output_type": "execute_result"
    }
   ],
   "source": [
    "# En Height cortamos y dejamos solo dos decimales\n",
    "df['Height'] = np.floor(df['Height'] * 100) / 100\n",
    "df['Height'] \n"
   ]
  },
  {
   "cell_type": "code",
   "execution_count": 205,
   "id": "f1a3754773b7c59f",
   "metadata": {
    "ExecuteTime": {
     "end_time": "2025-04-10T16:13:10.158861Z",
     "start_time": "2025-04-10T16:13:10.154679Z"
    }
   },
   "outputs": [
    {
     "data": {
      "text/plain": [
       "0        64.0\n",
       "1        56.0\n",
       "2        77.0\n",
       "3        87.0\n",
       "4        89.8\n",
       "        ...  \n",
       "2106    131.4\n",
       "2107    133.7\n",
       "2108    133.6\n",
       "2109    133.3\n",
       "2110    133.4\n",
       "Name: Weight, Length: 2111, dtype: float64"
      ]
     },
     "execution_count": 205,
     "metadata": {},
     "output_type": "execute_result"
    }
   ],
   "source": [
    "# En Weight cortamos y dejamos solo un decimal\n",
    "df['Weight'] = np.floor(df['Weight'] * 10) / 10\n",
    "df['Weight']"
   ]
  },
  {
   "cell_type": "code",
   "execution_count": 206,
   "id": "731606fca7513bbc",
   "metadata": {
    "ExecuteTime": {
     "end_time": "2025-04-10T16:13:10.258370Z",
     "start_time": "2025-04-10T16:13:10.252928Z"
    }
   },
   "outputs": [
    {
     "data": {
      "text/plain": [
       "FCVC\n",
       "2    1013\n",
       "3     996\n",
       "1     102\n",
       "Name: count, dtype: int64"
      ]
     },
     "execution_count": 206,
     "metadata": {},
     "output_type": "execute_result"
    }
   ],
   "source": [
    "# Para la variable FCVC que son numeros del 1 al 3 aproximamos si esta por encima de x.50 hacia arriba y sino hacia abajo\n",
    "def round_to_nearest_limited(x, min_val=1, max_val=3):\n",
    "    rounded = round(x)\n",
    "    return max(min_val, min(max_val, rounded))\n",
    "\n",
    "df['FCVC'] = df['FCVC'].apply(lambda x: round_to_nearest_limited(x, min_val=1, max_val=3))\n",
    "df['FCVC'].value_counts()"
   ]
  },
  {
   "cell_type": "code",
   "execution_count": 207,
   "id": "fed8b68119e1766e",
   "metadata": {
    "ExecuteTime": {
     "end_time": "2025-04-10T16:13:10.341737Z",
     "start_time": "2025-04-10T16:13:10.334449Z"
    }
   },
   "outputs": [
    {
     "data": {
      "text/plain": [
       "NCP\n",
       "3    1470\n",
       "1     316\n",
       "2     176\n",
       "4     149\n",
       "Name: count, dtype: int64"
      ]
     },
     "execution_count": 207,
     "metadata": {},
     "output_type": "execute_result"
    }
   ],
   "source": [
    "# Para la variable NCP que son numeros del 1 al 4 \n",
    "\n",
    "df['NCP'] = df['NCP'].apply(lambda x: round_to_nearest_limited(x, min_val=1, max_val=4))\n",
    "df['NCP'].value_counts()"
   ]
  },
  {
   "cell_type": "code",
   "execution_count": 208,
   "id": "48dbd395cfd97a37",
   "metadata": {
    "ExecuteTime": {
     "end_time": "2025-04-10T16:13:10.516497Z",
     "start_time": "2025-04-10T16:13:10.511239Z"
    }
   },
   "outputs": [
    {
     "data": {
      "text/plain": [
       "CH2O\n",
       "2    1110\n",
       "3     516\n",
       "1     485\n",
       "Name: count, dtype: int64"
      ]
     },
     "execution_count": 208,
     "metadata": {},
     "output_type": "execute_result"
    }
   ],
   "source": [
    "df['CH2O'] = df['CH2O'].apply(lambda x: round_to_nearest_limited(x, min_val=1, max_val=3))\n",
    "df['CH2O'].value_counts()"
   ]
  },
  {
   "cell_type": "code",
   "execution_count": 209,
   "id": "9994129b5d6db633",
   "metadata": {
    "ExecuteTime": {
     "end_time": "2025-04-10T16:13:10.573958Z",
     "start_time": "2025-04-10T16:13:10.568673Z"
    }
   },
   "outputs": [
    {
     "data": {
      "text/plain": [
       "FAF\n",
       "1    776\n",
       "0    720\n",
       "2    496\n",
       "3    119\n",
       "Name: count, dtype: int64"
      ]
     },
     "execution_count": 209,
     "metadata": {},
     "output_type": "execute_result"
    }
   ],
   "source": [
    "df['FAF'] = df['FAF'].apply(lambda x: round_to_nearest_limited(x, min_val=0, max_val=3))\n",
    "df['FAF'].value_counts()"
   ]
  },
  {
   "cell_type": "code",
   "execution_count": 210,
   "id": "f8c06d5f2e825653",
   "metadata": {
    "ExecuteTime": {
     "end_time": "2025-04-10T16:13:10.636794Z",
     "start_time": "2025-04-10T16:13:10.631574Z"
    }
   },
   "outputs": [
    {
     "data": {
      "text/plain": [
       "TUE\n",
       "0    952\n",
       "1    915\n",
       "2    244\n",
       "Name: count, dtype: int64"
      ]
     },
     "execution_count": 210,
     "metadata": {},
     "output_type": "execute_result"
    }
   ],
   "source": [
    "df['TUE'] = df['TUE'].apply(lambda x: round_to_nearest_limited(x, min_val=0, max_val=2))\n",
    "df['TUE'].value_counts()"
   ]
  },
  {
   "cell_type": "markdown",
   "id": "f7afc273039c4687",
   "metadata": {},
   "source": [
    "### Reconvierto las variables de texto a númericas  "
   ]
  },
  {
   "cell_type": "code",
   "execution_count": 211,
   "id": "fd4486405ccb7dbd",
   "metadata": {
    "ExecuteTime": {
     "end_time": "2025-04-10T16:13:10.733490Z",
     "start_time": "2025-04-10T16:13:10.728516Z"
    }
   },
   "outputs": [
    {
     "name": "stderr",
     "output_type": "stream",
     "text": [
      "/tmp/ipykernel_5519/874680266.py:2: FutureWarning: Downcasting behavior in `replace` is deprecated and will be removed in a future version. To retain the old behavior, explicitly call `result.infer_objects(copy=False)`. To opt-in to the future behavior, set `pd.set_option('future.no_silent_downcasting', True)`\n",
      "  df['Gender'] = df['Gender'].replace({'Male' : 1,'Female' : 0})\n"
     ]
    },
    {
     "data": {
      "text/plain": [
       "0       0\n",
       "1       0\n",
       "2       1\n",
       "3       1\n",
       "4       1\n",
       "       ..\n",
       "2106    0\n",
       "2107    0\n",
       "2108    0\n",
       "2109    0\n",
       "2110    0\n",
       "Name: Gender, Length: 2111, dtype: int64"
      ]
     },
     "execution_count": 211,
     "metadata": {},
     "output_type": "execute_result"
    }
   ],
   "source": [
    "#Gender male = 0 -> Female = 1\n",
    "df['Gender'] = df['Gender'].replace({'Male' : 1,'Female' : 0})\n",
    "df['Gender']"
   ]
  },
  {
   "cell_type": "code",
   "execution_count": 212,
   "id": "cedc6eb0a37444a6",
   "metadata": {
    "ExecuteTime": {
     "end_time": "2025-04-10T16:13:10.846570Z",
     "start_time": "2025-04-10T16:13:10.840609Z"
    }
   },
   "outputs": [
    {
     "name": "stderr",
     "output_type": "stream",
     "text": [
      "/tmp/ipykernel_5519/1396405093.py:2: FutureWarning: Downcasting behavior in `replace` is deprecated and will be removed in a future version. To retain the old behavior, explicitly call `result.infer_objects(copy=False)`. To opt-in to the future behavior, set `pd.set_option('future.no_silent_downcasting', True)`\n",
      "  df['family_history_with_overweight'] = df['family_history_with_overweight'].replace({'yes' : 1,'no' : 0})\n"
     ]
    },
    {
     "data": {
      "text/plain": [
       "0       1\n",
       "1       1\n",
       "2       1\n",
       "3       0\n",
       "4       0\n",
       "       ..\n",
       "2106    1\n",
       "2107    1\n",
       "2108    1\n",
       "2109    1\n",
       "2110    1\n",
       "Name: family_history_with_overweight, Length: 2111, dtype: int64"
      ]
     },
     "execution_count": 212,
     "metadata": {},
     "output_type": "execute_result"
    }
   ],
   "source": [
    "#family_history_with_overweight yes = 1 -> no = 0\n",
    "df['family_history_with_overweight'] = df['family_history_with_overweight'].replace({'yes' : 1,'no' : 0})\n",
    "df['family_history_with_overweight']"
   ]
  },
  {
   "cell_type": "code",
   "execution_count": 213,
   "id": "8825c906291de8a3",
   "metadata": {
    "ExecuteTime": {
     "end_time": "2025-04-10T16:13:10.990463Z",
     "start_time": "2025-04-10T16:13:10.985735Z"
    }
   },
   "outputs": [
    {
     "name": "stderr",
     "output_type": "stream",
     "text": [
      "/tmp/ipykernel_5519/519516511.py:2: FutureWarning: Downcasting behavior in `replace` is deprecated and will be removed in a future version. To retain the old behavior, explicitly call `result.infer_objects(copy=False)`. To opt-in to the future behavior, set `pd.set_option('future.no_silent_downcasting', True)`\n",
      "  df['FAVC'] = df['FAVC'].replace({'yes' : 1,'no' : 0})\n"
     ]
    },
    {
     "data": {
      "text/plain": [
       "0       0\n",
       "1       0\n",
       "2       0\n",
       "3       0\n",
       "4       0\n",
       "       ..\n",
       "2106    1\n",
       "2107    1\n",
       "2108    1\n",
       "2109    1\n",
       "2110    1\n",
       "Name: FAVC, Length: 2111, dtype: int64"
      ]
     },
     "execution_count": 213,
     "metadata": {},
     "output_type": "execute_result"
    }
   ],
   "source": [
    "#FAVC yes = 1 -> no = 0\n",
    "df['FAVC'] = df['FAVC'].replace({'yes' : 1,'no' : 0})\n",
    "df['FAVC']"
   ]
  },
  {
   "cell_type": "code",
   "execution_count": 214,
   "id": "28534b8648411b19",
   "metadata": {
    "ExecuteTime": {
     "end_time": "2025-04-10T16:13:11.090752Z",
     "start_time": "2025-04-10T16:13:11.084644Z"
    }
   },
   "outputs": [
    {
     "name": "stderr",
     "output_type": "stream",
     "text": [
      "/tmp/ipykernel_5519/1199883564.py:2: FutureWarning: Downcasting behavior in `replace` is deprecated and will be removed in a future version. To retain the old behavior, explicitly call `result.infer_objects(copy=False)`. To opt-in to the future behavior, set `pd.set_option('future.no_silent_downcasting', True)`\n",
      "  df['CAEC'] = df['CAEC'].replace({'no' : 0,'Sometimes' : 1,'Frequently' : 2,'Always' : 3})\n"
     ]
    },
    {
     "data": {
      "text/plain": [
       "CAEC\n",
       "1    1765\n",
       "2     242\n",
       "3      53\n",
       "0      51\n",
       "Name: count, dtype: int64"
      ]
     },
     "execution_count": 214,
     "metadata": {},
     "output_type": "execute_result"
    }
   ],
   "source": [
    "#CAEC no = 0 -> sometimes = 1 -> frequently = 2 -> always = 3\n",
    "df['CAEC'] = df['CAEC'].replace({'no' : 0,'Sometimes' : 1,'Frequently' : 2,'Always' : 3})\n",
    "df['CAEC'].value_counts()"
   ]
  },
  {
   "cell_type": "code",
   "execution_count": 215,
   "id": "31ce5ec227ade53",
   "metadata": {
    "ExecuteTime": {
     "end_time": "2025-04-10T16:13:11.163421Z",
     "start_time": "2025-04-10T16:13:11.159639Z"
    }
   },
   "outputs": [
    {
     "data": {
      "text/plain": [
       "SMOKE\n",
       "no     2067\n",
       "yes      44\n",
       "Name: count, dtype: int64"
      ]
     },
     "execution_count": 215,
     "metadata": {},
     "output_type": "execute_result"
    }
   ],
   "source": [
    "df['SMOKE'].value_counts()"
   ]
  },
  {
   "cell_type": "code",
   "execution_count": 216,
   "id": "f8345db8927c18ee",
   "metadata": {
    "ExecuteTime": {
     "end_time": "2025-04-10T16:13:11.231949Z",
     "start_time": "2025-04-10T16:13:11.227190Z"
    }
   },
   "outputs": [
    {
     "name": "stderr",
     "output_type": "stream",
     "text": [
      "/tmp/ipykernel_5519/1870456624.py:2: FutureWarning: Downcasting behavior in `replace` is deprecated and will be removed in a future version. To retain the old behavior, explicitly call `result.infer_objects(copy=False)`. To opt-in to the future behavior, set `pd.set_option('future.no_silent_downcasting', True)`\n",
      "  df['SMOKE'] = df['SMOKE'].replace({'yes' : 1,'no' : 0})\n"
     ]
    },
    {
     "data": {
      "text/plain": [
       "SMOKE\n",
       "0    2067\n",
       "1      44\n",
       "Name: count, dtype: int64"
      ]
     },
     "execution_count": 216,
     "metadata": {},
     "output_type": "execute_result"
    }
   ],
   "source": [
    "#SMOKE yes = 1 -> no = 0\n",
    "df['SMOKE'] = df['SMOKE'].replace({'yes' : 1,'no' : 0})\n",
    "df['SMOKE'].value_counts()"
   ]
  },
  {
   "cell_type": "code",
   "execution_count": 217,
   "id": "50f6ea0a6c601978",
   "metadata": {
    "ExecuteTime": {
     "end_time": "2025-04-10T16:13:11.514541Z",
     "start_time": "2025-04-10T16:13:11.508802Z"
    }
   },
   "outputs": [
    {
     "name": "stderr",
     "output_type": "stream",
     "text": [
      "/tmp/ipykernel_5519/2000253229.py:2: FutureWarning: Downcasting behavior in `replace` is deprecated and will be removed in a future version. To retain the old behavior, explicitly call `result.infer_objects(copy=False)`. To opt-in to the future behavior, set `pd.set_option('future.no_silent_downcasting', True)`\n",
      "  df['SCC'] = df['SCC'].replace({'yes' : 1,'no' : 0})\n"
     ]
    },
    {
     "data": {
      "text/plain": [
       "SCC\n",
       "0    2015\n",
       "1      96\n",
       "Name: count, dtype: int64"
      ]
     },
     "execution_count": 217,
     "metadata": {},
     "output_type": "execute_result"
    }
   ],
   "source": [
    "#SCC yes = 1 -> no = 0\n",
    "df['SCC'] = df['SCC'].replace({'yes' : 1,'no' : 0})\n",
    "df['SCC'].value_counts()"
   ]
  },
  {
   "cell_type": "code",
   "execution_count": 218,
   "id": "15a6a43d7abf1a1f",
   "metadata": {
    "ExecuteTime": {
     "end_time": "2025-04-10T16:13:11.687532Z",
     "start_time": "2025-04-10T16:13:11.680784Z"
    }
   },
   "outputs": [
    {
     "name": "stderr",
     "output_type": "stream",
     "text": [
      "/tmp/ipykernel_5519/414165507.py:2: FutureWarning: Downcasting behavior in `replace` is deprecated and will be removed in a future version. To retain the old behavior, explicitly call `result.infer_objects(copy=False)`. To opt-in to the future behavior, set `pd.set_option('future.no_silent_downcasting', True)`\n",
      "  df['CALC'] = df['CALC'].replace({'no' : 0,'Sometimes' : 1,'Frequently' : 2,'Always' : 3})\n"
     ]
    },
    {
     "data": {
      "text/plain": [
       "CALC\n",
       "1    1401\n",
       "0     639\n",
       "2      70\n",
       "3       1\n",
       "Name: count, dtype: int64"
      ]
     },
     "execution_count": 218,
     "metadata": {},
     "output_type": "execute_result"
    }
   ],
   "source": [
    "#CALC no = 0 -> sometimes = 1 -> frequently = 2 -> always = 3\n",
    "df['CALC'] = df['CALC'].replace({'no' : 0,'Sometimes' : 1,'Frequently' : 2,'Always' : 3})\n",
    "df['CALC'].value_counts()"
   ]
  },
  {
   "cell_type": "code",
   "execution_count": 219,
   "id": "d26198678d2c49b0",
   "metadata": {
    "ExecuteTime": {
     "end_time": "2025-04-10T16:13:11.815114Z",
     "start_time": "2025-04-10T16:13:11.809122Z"
    }
   },
   "outputs": [
    {
     "name": "stderr",
     "output_type": "stream",
     "text": [
      "/tmp/ipykernel_5519/40887276.py:2: FutureWarning: Downcasting behavior in `replace` is deprecated and will be removed in a future version. To retain the old behavior, explicitly call `result.infer_objects(copy=False)`. To opt-in to the future behavior, set `pd.set_option('future.no_silent_downcasting', True)`\n",
      "  df['MTRANS'] = df['MTRANS'].replace({'Walking' : 0,'Bike' : 1,'Motorbike' : 2,'Public_Transportation' : 3,'Automobile' : 4})\n"
     ]
    },
    {
     "data": {
      "text/plain": [
       "MTRANS\n",
       "3    1580\n",
       "4     457\n",
       "0      56\n",
       "2      11\n",
       "1       7\n",
       "Name: count, dtype: int64"
      ]
     },
     "execution_count": 219,
     "metadata": {},
     "output_type": "execute_result"
    }
   ],
   "source": [
    "#MTRANS walking = 0 -> bicycle = 1 -> motorbike = 2 -> public transport = 3 -> car = 4\n",
    "df['MTRANS'] = df['MTRANS'].replace({'Walking' : 0,'Bike' : 1,'Motorbike' : 2,'Public_Transportation' : 3,'Automobile' : 4})\n",
    "df['MTRANS'].value_counts()"
   ]
  },
  {
   "cell_type": "code",
   "execution_count": 220,
   "id": "6c62a0225c407540",
   "metadata": {
    "ExecuteTime": {
     "end_time": "2025-04-10T16:13:11.885003Z",
     "start_time": "2025-04-10T16:13:11.881283Z"
    }
   },
   "outputs": [
    {
     "data": {
      "text/plain": [
       "NObeyesdad\n",
       "Obesity_Type_I         351\n",
       "Obesity_Type_III       324\n",
       "Obesity_Type_II        297\n",
       "Overweight_Level_I     290\n",
       "Overweight_Level_II    290\n",
       "Normal_Weight          287\n",
       "Insufficient_Weight    272\n",
       "Name: count, dtype: int64"
      ]
     },
     "execution_count": 220,
     "metadata": {},
     "output_type": "execute_result"
    }
   ],
   "source": [
    "df['NObeyesdad'].value_counts()"
   ]
  },
  {
   "cell_type": "markdown",
   "id": "c8eb68f5dfa7f378",
   "metadata": {},
   "source": [
    "### Nos Guardamos los cambios para poder interpretarlo\n",
    "    0 = Insufficient_Weight\n",
    "    1 = Normal_Weight\n",
    "    2 = Overweight_Level_I\n",
    "    3 = Overweight_Level_II\n",
    "    4 = Obesity_Type_I\n",
    "    5 = Obesity_Type_II\n",
    "    6 = Obesity_Type_III\n",
    "   "
   ]
  },
  {
   "cell_type": "code",
   "execution_count": 221,
   "id": "838cf97bc3be4156",
   "metadata": {
    "ExecuteTime": {
     "end_time": "2025-04-10T16:13:11.946949Z",
     "start_time": "2025-04-10T16:13:11.940904Z"
    }
   },
   "outputs": [
    {
     "name": "stderr",
     "output_type": "stream",
     "text": [
      "/tmp/ipykernel_5519/2146130774.py:2: FutureWarning: Downcasting behavior in `replace` is deprecated and will be removed in a future version. To retain the old behavior, explicitly call `result.infer_objects(copy=False)`. To opt-in to the future behavior, set `pd.set_option('future.no_silent_downcasting', True)`\n",
      "  df['NObeyesdad'] = df['NObeyesdad'].replace({'Insufficient_Weight' : 0,'Normal_Weight' : 1,'Overweight_Level_I' : 2,'Overweight_Level_II' : 3,'Obesity_Type_I' : 4,'Obesity_Type_II' : 5,'Obesity_Type_III' : 6})\n"
     ]
    },
    {
     "data": {
      "text/plain": [
       "NObeyesdad\n",
       "4    351\n",
       "6    324\n",
       "5    297\n",
       "2    290\n",
       "3    290\n",
       "1    287\n",
       "0    272\n",
       "Name: count, dtype: int64"
      ]
     },
     "execution_count": 221,
     "metadata": {},
     "output_type": "execute_result"
    }
   ],
   "source": [
    "#NObeyesdad Insufficient weight = 0 -> Normal weight = 1 -> Overweight Level I = 2 -> Overweight Level II = 3 -> Obesity Type I = 4 -> Obesity Type II = 5 -> Obesity Type III = 6\n",
    "df['NObeyesdad'] = df['NObeyesdad'].replace({'Insufficient_Weight' : 0,'Normal_Weight' : 1,'Overweight_Level_I' : 2,'Overweight_Level_II' : 3,'Obesity_Type_I' : 4,'Obesity_Type_II' : 5,'Obesity_Type_III' : 6})\n",
    "df['NObeyesdad'].value_counts()"
   ]
  },
  {
   "cell_type": "markdown",
   "id": "f4d3011589b5a2cb",
   "metadata": {},
   "source": [
    "| Código Original | Nombre Interpretado             |\n",
    "|-----------------|---------------------------------|\n",
    "| FAVC            | High_Caloric_Intake            |\n",
    "| FCVC            | Vegetables_Intake              |\n",
    "| NCP             | Daily_Main_Meals               |\n",
    "| CAEC            | Food_Between_Meals             |\n",
    "| CH2O            | Daily_Water_Consumption        |\n",
    "| SCC             | Calories_Monitored             |\n",
    "| FAF             | Physical_Activity              |\n",
    "| TUE             | HowMuch_Time_Tech_Devices      |\n",
    "| CALC            | Alcohol_Consumption            |\n",
    "| SMOKE           | Smoker                         |\n",
    "| MTRANS          | Transport_Method               |"
   ]
  },
  {
   "cell_type": "code",
   "execution_count": 222,
   "id": "249620c984d93d83",
   "metadata": {
    "ExecuteTime": {
     "end_time": "2025-04-10T16:13:12.060327Z",
     "start_time": "2025-04-10T16:13:12.048829Z"
    }
   },
   "outputs": [
    {
     "data": {
      "text/html": [
       "<div>\n",
       "<style scoped>\n",
       "    .dataframe tbody tr th:only-of-type {\n",
       "        vertical-align: middle;\n",
       "    }\n",
       "\n",
       "    .dataframe tbody tr th {\n",
       "        vertical-align: top;\n",
       "    }\n",
       "\n",
       "    .dataframe thead th {\n",
       "        text-align: right;\n",
       "    }\n",
       "</style>\n",
       "<table border=\"1\" class=\"dataframe\">\n",
       "  <thead>\n",
       "    <tr style=\"text-align: right;\">\n",
       "      <th></th>\n",
       "      <th>Gender</th>\n",
       "      <th>Age</th>\n",
       "      <th>Height</th>\n",
       "      <th>Weight</th>\n",
       "      <th>Family_History_Overweight</th>\n",
       "      <th>High_Caloric_Intake</th>\n",
       "      <th>Vegetables_Intake</th>\n",
       "      <th>Daily_Main_Meals</th>\n",
       "      <th>Food_Between_Meals</th>\n",
       "      <th>Smoker</th>\n",
       "      <th>Daily_Water_Consumption</th>\n",
       "      <th>Calories_Monitored</th>\n",
       "      <th>Physical_Activity</th>\n",
       "      <th>HowMuch_Time_Tech_Devices</th>\n",
       "      <th>Alcohol_Consumption</th>\n",
       "      <th>Transport_Method</th>\n",
       "      <th>NObeyesdad</th>\n",
       "    </tr>\n",
       "  </thead>\n",
       "  <tbody>\n",
       "    <tr>\n",
       "      <th>0</th>\n",
       "      <td>0</td>\n",
       "      <td>21</td>\n",
       "      <td>1.62</td>\n",
       "      <td>64.0</td>\n",
       "      <td>1</td>\n",
       "      <td>0</td>\n",
       "      <td>2</td>\n",
       "      <td>3</td>\n",
       "      <td>1</td>\n",
       "      <td>0</td>\n",
       "      <td>2</td>\n",
       "      <td>0</td>\n",
       "      <td>0</td>\n",
       "      <td>1</td>\n",
       "      <td>0</td>\n",
       "      <td>3</td>\n",
       "      <td>1</td>\n",
       "    </tr>\n",
       "    <tr>\n",
       "      <th>1</th>\n",
       "      <td>0</td>\n",
       "      <td>21</td>\n",
       "      <td>1.52</td>\n",
       "      <td>56.0</td>\n",
       "      <td>1</td>\n",
       "      <td>0</td>\n",
       "      <td>3</td>\n",
       "      <td>3</td>\n",
       "      <td>1</td>\n",
       "      <td>1</td>\n",
       "      <td>3</td>\n",
       "      <td>1</td>\n",
       "      <td>3</td>\n",
       "      <td>0</td>\n",
       "      <td>1</td>\n",
       "      <td>3</td>\n",
       "      <td>1</td>\n",
       "    </tr>\n",
       "    <tr>\n",
       "      <th>2</th>\n",
       "      <td>1</td>\n",
       "      <td>23</td>\n",
       "      <td>1.80</td>\n",
       "      <td>77.0</td>\n",
       "      <td>1</td>\n",
       "      <td>0</td>\n",
       "      <td>2</td>\n",
       "      <td>3</td>\n",
       "      <td>1</td>\n",
       "      <td>0</td>\n",
       "      <td>2</td>\n",
       "      <td>0</td>\n",
       "      <td>2</td>\n",
       "      <td>1</td>\n",
       "      <td>2</td>\n",
       "      <td>3</td>\n",
       "      <td>1</td>\n",
       "    </tr>\n",
       "    <tr>\n",
       "      <th>3</th>\n",
       "      <td>1</td>\n",
       "      <td>27</td>\n",
       "      <td>1.80</td>\n",
       "      <td>87.0</td>\n",
       "      <td>0</td>\n",
       "      <td>0</td>\n",
       "      <td>3</td>\n",
       "      <td>3</td>\n",
       "      <td>1</td>\n",
       "      <td>0</td>\n",
       "      <td>2</td>\n",
       "      <td>0</td>\n",
       "      <td>2</td>\n",
       "      <td>0</td>\n",
       "      <td>2</td>\n",
       "      <td>0</td>\n",
       "      <td>2</td>\n",
       "    </tr>\n",
       "    <tr>\n",
       "      <th>4</th>\n",
       "      <td>1</td>\n",
       "      <td>22</td>\n",
       "      <td>1.78</td>\n",
       "      <td>89.8</td>\n",
       "      <td>0</td>\n",
       "      <td>0</td>\n",
       "      <td>2</td>\n",
       "      <td>1</td>\n",
       "      <td>1</td>\n",
       "      <td>0</td>\n",
       "      <td>2</td>\n",
       "      <td>0</td>\n",
       "      <td>0</td>\n",
       "      <td>0</td>\n",
       "      <td>1</td>\n",
       "      <td>3</td>\n",
       "      <td>3</td>\n",
       "    </tr>\n",
       "  </tbody>\n",
       "</table>\n",
       "</div>"
      ],
      "text/plain": [
       "   Gender Age  Height  Weight  Family_History_Overweight  High_Caloric_Intake  \\\n",
       "0       0  21    1.62    64.0                          1                    0   \n",
       "1       0  21    1.52    56.0                          1                    0   \n",
       "2       1  23    1.80    77.0                          1                    0   \n",
       "3       1  27    1.80    87.0                          0                    0   \n",
       "4       1  22    1.78    89.8                          0                    0   \n",
       "\n",
       "   Vegetables_Intake  Daily_Main_Meals  Food_Between_Meals  Smoker  \\\n",
       "0                  2                 3                   1       0   \n",
       "1                  3                 3                   1       1   \n",
       "2                  2                 3                   1       0   \n",
       "3                  3                 3                   1       0   \n",
       "4                  2                 1                   1       0   \n",
       "\n",
       "   Daily_Water_Consumption  Calories_Monitored  Physical_Activity  \\\n",
       "0                        2                   0                  0   \n",
       "1                        3                   1                  3   \n",
       "2                        2                   0                  2   \n",
       "3                        2                   0                  2   \n",
       "4                        2                   0                  0   \n",
       "\n",
       "   HowMuch_Time_Tech_Devices  Alcohol_Consumption  Transport_Method  \\\n",
       "0                          1                    0                 3   \n",
       "1                          0                    1                 3   \n",
       "2                          1                    2                 3   \n",
       "3                          0                    2                 0   \n",
       "4                          0                    1                 3   \n",
       "\n",
       "   NObeyesdad  \n",
       "0           1  \n",
       "1           1  \n",
       "2           1  \n",
       "3           2  \n",
       "4           3  "
      ]
     },
     "execution_count": 222,
     "metadata": {},
     "output_type": "execute_result"
    }
   ],
   "source": [
    "# Vamos a renombar las columnas para que sea más interpretable\n",
    "\n",
    "df = df.rename(columns={\n",
    "    'FAVC': 'High_Caloric_Intake',\n",
    "    'FCVC': 'Vegetables_Intake',\n",
    "    'NCP': 'Daily_Main_Meals',\n",
    "    'CAEC': 'Food_Between_Meals',\n",
    "    'CH2O': 'Daily_Water_Consumption',\n",
    "    'SCC': 'Calories_Monitored',\n",
    "    'FAF': 'Physical_Activity',\n",
    "    'TUE': 'HowMuch_Time_Tech_Devices',\n",
    "    'CALC': 'Alcohol_Consumption',\n",
    "    'SMOKE': 'Smoker',\n",
    "    'MTRANS': 'Transport_Method',\n",
    "    'family_history_with_overweight': 'Family_History_Overweight',\n",
    "})\n",
    "df.head()\n",
    "\n"
   ]
  },
  {
   "cell_type": "markdown",
   "id": "81989019890fd7da",
   "metadata": {},
   "source": [
    "### Guardamos el dataset limpio para poder utilizarlo en el futuro"
   ]
  },
  {
   "cell_type": "code",
   "execution_count": 223,
   "id": "5fd2b6b354b5515",
   "metadata": {
    "ExecuteTime": {
     "end_time": "2025-04-10T16:13:12.163739Z",
     "start_time": "2025-04-10T16:13:12.153493Z"
    }
   },
   "outputs": [],
   "source": [
    "df.to_csv('res/ObesityDataSet_Clean_WithAllColumns.csv', index=False)"
   ]
  },
  {
   "cell_type": "markdown",
   "id": "3ee1e3fcaf53d29f",
   "metadata": {},
   "source": [
    "#### Transformación de la columna `Transport_Method`\n",
    "\n",
    "La columna `Transport_Method` indica el medio de transporte habitual de una persona. Para simplificarla e interpretar si una persona realiza actividad física durante sus desplazamientos, se propone agruparla en una variable binaria:\n",
    "\n",
    "- Si la persona **camina** o **usa bicicleta**, se considera que **realiza actividad física** → valor `1`.\n",
    "- Si usa **moto**, **coche** o **transporte público**, se considera que **no realiza actividad física** → valor `0`.\n",
    "\n",
    "Esta transformación permite incorporar esta variable como un indicador de estilo de vida activo o sedentario."
   ]
  },
  {
   "cell_type": "code",
   "execution_count": 224,
   "id": "21613c7107c1a9be",
   "metadata": {
    "ExecuteTime": {
     "end_time": "2025-04-10T16:13:12.205896Z",
     "start_time": "2025-04-10T16:13:12.201211Z"
    }
   },
   "outputs": [
    {
     "data": {
      "text/plain": [
       "Transport_Method\n",
       "0    2048\n",
       "1      63\n",
       "Name: count, dtype: int64"
      ]
     },
     "execution_count": 224,
     "metadata": {},
     "output_type": "execute_result"
    }
   ],
   "source": [
    "# Crear nueva variable binaria basada en el tipo de transporte\n",
    "df['Transport_Method'] = df['Transport_Method'].replace({\n",
    "    0: 1,\n",
    "    1: 1,\n",
    "    2: 0,\n",
    "    3: 0,\n",
    "    4 : 0\n",
    "})\n",
    "df['Transport_Method'].value_counts()\n"
   ]
  },
  {
   "cell_type": "markdown",
   "id": "673f866f9971a983",
   "metadata": {},
   "source": [
    "#### Consideramos que la columna de si contabilizas tu ingesta de calorías no aporta mucha información aparte de que es una columna muy desbalanceada "
   ]
  },
  {
   "cell_type": "code",
   "execution_count": 225,
   "id": "8db374886826e924",
   "metadata": {
    "ExecuteTime": {
     "end_time": "2025-04-10T16:13:12.257340Z",
     "start_time": "2025-04-10T16:13:12.254035Z"
    }
   },
   "outputs": [
    {
     "data": {
      "text/plain": [
       "Calories_Monitored\n",
       "0    2015\n",
       "1      96\n",
       "Name: count, dtype: int64"
      ]
     },
     "execution_count": 225,
     "metadata": {},
     "output_type": "execute_result"
    }
   ],
   "source": [
    "df['Calories_Monitored'].value_counts()"
   ]
  },
  {
   "cell_type": "code",
   "execution_count": 226,
   "id": "4a79a6ada6298fcc",
   "metadata": {
    "ExecuteTime": {
     "end_time": "2025-04-10T16:13:12.323279Z",
     "start_time": "2025-04-10T16:13:12.320784Z"
    }
   },
   "outputs": [],
   "source": [
    "# Eliminar la columna 'Calories_Monitored'\n",
    "df = df.drop(columns=['Calories_Monitored'])"
   ]
  },
  {
   "cell_type": "markdown",
   "id": "a4afabb41649a615",
   "metadata": {},
   "source": [
    "#### Sabiendo que el Nivel de Obesidad está calculado utilizando el IMC como muestra el Paper : https://www.sciencedirect.com/science/article/pii/S2352340919306985?via%3Dihub#fd1\n",
    "\n",
    "#### Vamos a hacer una bifurcación del dataset uno en el que guardamos all y otro en el que quitamos altura y peso "
   ]
  },
  {
   "cell_type": "code",
   "execution_count": 227,
   "id": "99acef99e027a66",
   "metadata": {
    "ExecuteTime": {
     "end_time": "2025-04-10T16:13:12.374713Z",
     "start_time": "2025-04-10T16:13:12.366114Z"
    }
   },
   "outputs": [],
   "source": [
    "# Guardamos un dataset sin altura y peso y otro con altura y peso\n",
    "df_Height_Weight = df.copy()\n",
    "df_Height_Weight = df_Height_Weight.drop(['Height', 'Weight'], axis=1)\n",
    "df_Height_Weight.to_csv('res/ObesityDataSet_Clean_Without_HeightWeight.csv', index=False)\n"
   ]
  }
 ],
 "metadata": {
  "kernelspec": {
   "display_name": "Python 3",
   "language": "python",
   "name": "python3"
  },
  "language_info": {
   "codemirror_mode": {
    "name": "ipython",
    "version": 2
   },
   "file_extension": ".py",
   "mimetype": "text/x-python",
   "name": "python",
   "nbconvert_exporter": "python",
   "pygments_lexer": "ipython2",
   "version": "2.7.6"
  }
 },
 "nbformat": 4,
 "nbformat_minor": 5
}
